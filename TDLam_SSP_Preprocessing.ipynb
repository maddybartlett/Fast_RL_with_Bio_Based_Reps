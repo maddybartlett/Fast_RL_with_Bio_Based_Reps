{
 "cells": [
  {
   "cell_type": "markdown",
   "id": "54c5e8e1",
   "metadata": {},
   "source": [
    "# Script for creating pandas data frames from the data produced by running Actor_Critic_Network_Run"
   ]
  },
  {
   "cell_type": "markdown",
   "id": "748dd490",
   "metadata": {},
   "source": [
    "Import dependencies -- sys, numpy, pandas, matplotlib.pyplot, pytry, pathlib, pickle"
   ]
  },
  {
   "cell_type": "code",
   "execution_count": null,
   "id": "762749f3",
   "metadata": {},
   "outputs": [],
   "source": [
    "%matplotlib inline\n",
    "\n",
    "import sys\n",
    "sys.path.insert(0, './network')\n",
    "\n",
    "import numpy as np\n",
    "import pandas as pd\n",
    "import matplotlib.pyplot as plt\n",
    "\n",
    "import pytry\n",
    "from pathlib import Path\n",
    "import pickle"
   ]
  },
  {
   "cell_type": "code",
   "execution_count": null,
   "id": "f0fc9028",
   "metadata": {},
   "outputs": [],
   "source": [
    "np_load_old = np.load\n",
    "# modify the default parameters of np.load\n",
    "np.load = lambda *a,**k: np_load_old(*a, allow_pickle=True, **k)"
   ]
  },
  {
   "cell_type": "markdown",
   "id": "664bb771",
   "metadata": {},
   "source": [
    "Function for fetching the data and saving it as a pandas data frame"
   ]
  },
  {
   "cell_type": "code",
   "execution_count": null,
   "id": "31bdbb92",
   "metadata": {},
   "outputs": [],
   "source": [
    "def get_data(task, rule, rep, param):\n",
    "    ## Lists containing the names for the tasks, rules and representations methods\n",
    "    TASKS = ['MG', 'MC']\n",
    "    REPS = {'1H' : 'One Hot', 'SSP': 'SSP', 'Grid' : 'GridSSP'}\n",
    "    RULES = {'TD0': 'TD(0)', 'TDLambda': 'TD(Lambda)'}\n",
    "    \n",
    "    ## Make sure the function's input parameters are correct\n",
    "    if task not in TASKS:\n",
    "        raise ValueError(task, 'not found in', TASKS)\n",
    "    elif rule not in RULES:\n",
    "        raise ValueError(rule, 'not found in', REPS.keys())\n",
    "    elif rep not in REPS:\n",
    "        raise ValueError(rep, 'not found in', RULES.keys())\n",
    "        \n",
    "    # Load the data files\n",
    "    data_folder = Path('./data/ssp_exploration/'+task+'_'+rule+'_'+rep+'_'+param)\n",
    "    data = pd.DataFrame(pytry.read(data_folder))\n",
    "    print('data loaded')\n",
    "    \n",
    "    # Save the data\n",
    "    data.to_pickle('./data/'+task+'_'+rule+'_'+rep+'_'+param+'_data')\n",
    "    print('data saved. Done')"
   ]
  },
  {
   "cell_type": "markdown",
   "id": "c13a33a4",
   "metadata": {},
   "source": [
    "## Run function"
   ]
  },
  {
   "cell_type": "markdown",
   "id": "9be0eccf",
   "metadata": {},
   "source": [
    "Original experiment"
   ]
  },
  {
   "cell_type": "code",
   "execution_count": null,
   "id": "af2d8fb0",
   "metadata": {},
   "outputs": [],
   "source": [
    "get_data('MG', 'TDLambda', 'SSP', 'orig')"
   ]
  },
  {
   "cell_type": "markdown",
   "id": "3cdd2227",
   "metadata": {},
   "source": [
    "Experiments testing different dimensions"
   ]
  },
  {
   "cell_type": "code",
   "execution_count": null,
   "id": "5f7e87e5",
   "metadata": {},
   "outputs": [],
   "source": [
    "get_data('MG', 'TDLambda', 'SSP', '512dims')\n",
    "get_data('MG', 'TDLambda', 'SSP', '1024dims')"
   ]
  },
  {
   "cell_type": "markdown",
   "id": "ca863be7",
   "metadata": {},
   "source": [
    "Experiments testing different numbers of neurons"
   ]
  },
  {
   "cell_type": "code",
   "execution_count": null,
   "id": "c9bf5116",
   "metadata": {},
   "outputs": [],
   "source": [
    "get_data('MG', 'TDLambda', 'SSP', '5000neurons')\n",
    "get_data('MG', 'TDLambda', 'SSP', '6000neurons')\n",
    "get_data('MG', 'TDLambda', 'SSP', '7000neurons')\n",
    "get_data('MG', 'TDLambda', 'SSP', '8000neurons')\n",
    "get_data('MG', 'TDLambda', 'SSP', '9000neurons')\n",
    "get_data('MG', 'TDLambda', 'SSP', '10000neurons')"
   ]
  }
 ],
 "metadata": {
  "kernelspec": {
   "display_name": "Python 3",
   "language": "python",
   "name": "python3"
  },
  "language_info": {
   "codemirror_mode": {
    "name": "ipython",
    "version": 3
   },
   "file_extension": ".py",
   "mimetype": "text/x-python",
   "name": "python",
   "nbconvert_exporter": "python",
   "pygments_lexer": "ipython3",
   "version": "3.8.8"
  }
 },
 "nbformat": 4,
 "nbformat_minor": 5
}
