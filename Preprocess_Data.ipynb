{
 "cells": [
  {
   "cell_type": "markdown",
   "id": "b49f2c86",
   "metadata": {},
   "source": [
    "# Script for converting the txt files saved from NNI experiments to pandas dataframes"
   ]
  },
  {
   "cell_type": "markdown",
   "id": "be29d79a",
   "metadata": {},
   "source": [
    "Import dependencies -- pytry, pandas, numpy, pickle, os"
   ]
  },
  {
   "cell_type": "code",
   "execution_count": 1,
   "id": "e5163b1b",
   "metadata": {},
   "outputs": [],
   "source": [
    "import pytry\n",
    "import pandas as pd\n",
    "import numpy as np\n",
    "import pickle\n",
    "import os"
   ]
  },
  {
   "cell_type": "markdown",
   "id": "28b89fa7",
   "metadata": {},
   "source": [
    "Function for calculating rolling mean and adding it to the dataframe"
   ]
  },
  {
   "cell_type": "code",
   "execution_count": 2,
   "id": "af125bc2",
   "metadata": {},
   "outputs": [],
   "source": [
    "def add_roll_mean(df):\n",
    "    #from dataframe, get the rewards for each trial\n",
    "    rewards_over_eps = df['episodes ']\n",
    "    \n",
    "    #create empty lists for recording new values\n",
    "    Roll_mean=[]\n",
    "    lst=[]\n",
    "\n",
    "    #for each trial\n",
    "    for i in range(len(rewards_over_eps)):\n",
    "        #get rewards for trial i\n",
    "        x = rewards_over_eps[i]\n",
    "        #the data was saved as a string so convert it to an array\n",
    "        x = x.replace('[','')\n",
    "        x = x.replace(']','')\n",
    "        array = np.fromstring(x, dtype=float, sep=\",\")\n",
    "        #convert array to dataframe\n",
    "        array_df = pd.DataFrame(array)\n",
    "\n",
    "        #calculate rolling mean and add to one of the lists\n",
    "        Roll_mean.append(array_df[array_df.columns[0]].rolling(100).mean())\n",
    "        \n",
    "        #copy the rolling mean data and convert to an array\n",
    "        a = np.asarray(Roll_mean[i]).copy()\n",
    "        #add the new array to the second list\n",
    "        lst.append(a)\n",
    "    \n",
    "    #create new column with rolling mean data\n",
    "    df['roll_mean'] = lst\n",
    "    \n",
    "    #return dataframe\n",
    "    return df"
   ]
  },
  {
   "cell_type": "markdown",
   "id": "3298c694",
   "metadata": {},
   "source": [
    "Function for fetching data from the txt files containing the data from the NNI experiments"
   ]
  },
  {
   "cell_type": "code",
   "execution_count": 3,
   "id": "33ad9dde",
   "metadata": {},
   "outputs": [],
   "source": [
    "def txt_to_dataFrame(directory):\n",
    "    i = 0\n",
    "    #from the directory, grab each data file\n",
    "    for filename in os.listdir(directory):\n",
    "        #get path to data file\n",
    "        filepath = os.path.join(directory, filename)\n",
    "        \n",
    "        #Read the data as a csv, separating the data names from the data \n",
    "        #Data format: 'dataname = data'\n",
    "        data = pd.read_csv(filepath, sep='=')\n",
    "        \n",
    "        #Store the data in list\n",
    "        vals = data.iloc[:18,1].tolist()\n",
    "        \n",
    "        #To initialise the dataframe\n",
    "        if i == 0:\n",
    "            \n",
    "            #make sure the first file has all the data needed\n",
    "            if len(vals) == 18:\n",
    "            \n",
    "                #Store the data names in a list\n",
    "                head = data.iloc[:18,0].tolist()\n",
    "                \n",
    "                #Create a pandas data frame\n",
    "                df = pd.DataFrame(vals)\n",
    "                df = df.T\n",
    "                \n",
    "                #Set the column names\n",
    "                df.columns = head\n",
    "                \n",
    "                i += 1\n",
    "                \n",
    "            #if the first file doesn't have all the data needed\n",
    "            else:\n",
    "                \n",
    "                #print 'incomplete data' if the file is missing something\n",
    "                #script will then move on to the next file\n",
    "                print('Incomplete data in:',filepath)\n",
    "        \n",
    "        #for the rest of the data files, add the data to the dataframe\n",
    "        else:\n",
    "            try:\n",
    "                df.loc[len(df.index)] = vals\n",
    "                \n",
    "            #if there is data missing, print 'incomplete data' and move to the next file\n",
    "            except ValueError:\n",
    "                print('incomplete data in:',filepath)\n",
    "    \n",
    "    #Add a column with the rolling mean reward to the dataframe\n",
    "    df = add_roll_mean(df)\n",
    "            \n",
    "    return df"
   ]
  },
  {
   "cell_type": "markdown",
   "id": "b4029f62",
   "metadata": {},
   "source": [
    "Set path to data folder"
   ]
  },
  {
   "cell_type": "code",
   "execution_count": 4,
   "id": "faff5a8d",
   "metadata": {},
   "outputs": [],
   "source": [
    "folder = '.\\\\data\\\\main_experiment'"
   ]
  },
  {
   "cell_type": "markdown",
   "id": "9cc4d2b3",
   "metadata": {},
   "source": [
    "For each experiment, extract data and save it as a pandas dataframe"
   ]
  },
  {
   "cell_type": "code",
   "execution_count": 5,
   "id": "6fc505ca",
   "metadata": {},
   "outputs": [
    {
     "name": "stdout",
     "output_type": "stream",
     "text": [
      "Incomplete data in: .\\data\\main_experiment\\MG_TD0_Baseline_long\\ActorCriticLearn#20220214-125001-8a08ce41.txt\n"
     ]
    }
   ],
   "source": [
    "for foldername in os.listdir(folder):\n",
    "    #set path to data folder\n",
    "    directory = os.path.join(folder, foldername)\n",
    "    \n",
    "    #Get useful information from the file path\n",
    "    title = directory.split('\\\\')[3] #filename\n",
    "    task = title.split('_')[0] #the RL task done\n",
    "    rule = title.split('_')[1] #the TD rule used\n",
    "    rep = title.split('_')[2] #the method for representing the state information\n",
    "    \n",
    "    #Convert the data in this folder to a pandas data frame\n",
    "    df = txt_to_dataFrame(directory)\n",
    "    \n",
    "    #Add the TD rule and the method for representing the state to the data frame\n",
    "    df['rule '][:] = rule\n",
    "    df['rep '][:] = rep\n",
    "    \n",
    "    #Save the data frame\n",
    "    df.to_pickle('.\\\\data\\\\'+title+'_dataframe')"
   ]
  }
 ],
 "metadata": {
  "kernelspec": {
   "display_name": "Python 3",
   "language": "python",
   "name": "python3"
  },
  "language_info": {
   "codemirror_mode": {
    "name": "ipython",
    "version": 3
   },
   "file_extension": ".py",
   "mimetype": "text/x-python",
   "name": "python",
   "nbconvert_exporter": "python",
   "pygments_lexer": "ipython3",
   "version": "3.8.8"
  }
 },
 "nbformat": 4,
 "nbformat_minor": 5
}
